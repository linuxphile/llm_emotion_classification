{
 "cells": [
  {
   "cell_type": "code",
   "execution_count": 17,
   "metadata": {},
   "outputs": [
    {
     "name": "stdout",
     "output_type": "stream",
     "text": [
      "Joyful\n",
      "Grateful\n",
      "Serene\n",
      "Interested\n",
      "Hopeful\n",
      "Proud\n",
      "Amusement\n",
      "Inspired\n",
      "Awed\n",
      "LovedAngry\n",
      "Sad\n",
      "Afraid\n",
      "Disgusted\n",
      "Ashamed\n",
      "Guilty\n",
      "Envious\n",
      "Jealous\n",
      "Frustrated\n",
      "LonelyNostalgic\n",
      "Empathetic\n",
      "Sympathetic\n",
      "Content\n",
      "Satisfied\n",
      "Confused\n",
      "Anticipative\n",
      "Relieved\n"
     ]
    }
   ],
   "source": [
    "import json \n",
    "\n",
    "# Load the emotions from the JSON file\n",
    "with open('./data/emotions.json', 'r') as f:\n",
    "    emotions = json.load(f)\n",
    "\n",
    "#convert the emotions.positive to a list in a new variable\n",
    "emotions_list = '\\n'.join([str(elem)for i, elem in enumerate (emotions['positive'])])\n",
    "emotions_list = emotions_list + '\\n'.join([str(elem)for i, elem in enumerate (emotions['negative'])])\n",
    "emotions_list = emotions_list + '\\n'.join([str(elem)for i, elem in enumerate (emotions['complex'])])\n",
    "\n",
    "print(emotions_list)"
   ]
  },
  {
   "cell_type": "code",
   "execution_count": 18,
   "metadata": {},
   "outputs": [
    {
     "data": {
      "text/plain": [
       "\" Yes, I am designed to listen and process text-based inputs. However, please keep in mind that I don't have the ability to understand context or emotions in the way humans do. I can only provide responses based on the information provided in the text. If you have any specific questions or topics you'd like me to help with, feel free to ask!\""
      ]
     },
     "execution_count": 18,
     "metadata": {},
     "output_type": "execute_result"
    }
   ],
   "source": [
    "# import langchain modules for ollama\n",
    "from langchain_community.llms import Ollama\n",
    "\n",
    "llm = Ollama(model=\"mistral\")\n",
    "llm.invoke(\"Are you listening to me?\")\n"
   ]
  },
  {
   "cell_type": "code",
   "execution_count": 52,
   "metadata": {},
   "outputs": [
    {
     "name": "stdout",
     "output_type": "stream",
     "text": [
      " Grateful. The student expresses feeling \"glad\" to have experienced something, indicating a positive emotional state. However, the use of the word \"glimpse\" and \"vibrant energy I will gain throughout the year\" suggests that this moment was significant for the student and they are grateful for it.\n"
     ]
    }
   ],
   "source": [
    "# import langchain prompttemplate\n",
    "from langchain.prompts import PromptTemplate\n",
    "\n",
    "# define the template\n",
    "prompt_template = \"\"\"\n",
    "You are PHD candidate in the psychology department. You have been given the task of labeling text from students to determine their emotional state.\n",
    "You will be given a sentence or two from the student. You will attempt to infer the students emotional state from the text. \n",
    "\n",
    "You will limit your the emotions to the following list of emotions:\n",
    "{emotion_list}\n",
    "\n",
    "Your task is to provide a single word that best describes the emotional state from the first person perspective.\n",
    "Sad\n",
    "Happy\n",
    "Angry\n",
    "\n",
    "If you believe there could be multiple emotions, choose the one that is most prevalent. \n",
    "If the text refers to multiple people, you will only be given the emotion from the perspective of the first person. Choose the best emotion for the first person. \n",
    "There is not penalty for providing a wrong answer.\n",
    "\n",
    "The students text:\n",
    "{text}\n",
    "\n",
    "Remember to only respond with a single word. Do not explain your reasoning. 1 word response only. Such as \"Happy\", \"Sad\" or \"Angry\"\n",
    "\n",
    "\n",
    "SINGLE 1 WORD ANSWER ONLY.\n",
    "\"\"\"\n",
    "\n",
    "prompt = PromptTemplate.from_template(prompt_template)\n",
    "prompt_formatted_str: str = prompt.format(\n",
    "    emotion_list=emotions_list, text=\"i was feeling at the start didnt want to move much at all was really glad to experience this glimpse into the sort of vibrant energy i will gain through out the year\"\n",
    ")\n",
    "\n",
    "llm = Ollama(model=\"mistral\")\n",
    "prediction = llm.predict(prompt_formatted_str)\n",
    "print(prediction)\n",
    "\n",
    "\n",
    "    "
   ]
  },
  {
   "cell_type": "code",
   "execution_count": 71,
   "metadata": {},
   "outputs": [
    {
     "name": "stdout",
     "output_type": "stream",
     "text": [
      " Gratiful (Note: The student used the word \"glad\" which is synonymous with feeling grateful)\n"
     ]
    }
   ],
   "source": [
    "# import langchain prompttemplate\n",
    "from langchain.prompts import PromptTemplate\n",
    "\n",
    "# define the template\n",
    "prompt_template = \"\"\"\n",
    "As a psychology Ph.D. candidate, your task is to identify the predominant emotional state of a student based on their provided text. \n",
    "You should limit your responses to one of the following emotions: {emotion_list} Ensure your response reflects the emotional state \n",
    "from the first person's perspective. Respond with only one word that best captures the emotion. Do not provide explanations. \n",
    "Use just one of the specified emotions as your answer.\n",
    "\n",
    "Students' text: {text}\n",
    "\n",
    "Response: [Your one-word emotion here]\n",
    "\"\"\"\n",
    "\n",
    "prompt = PromptTemplate.from_template(prompt_template)\n",
    "prompt_formatted_str: str = prompt.format(\n",
    "    emotion_list=emotions_list, text=\"i was feeling at the start didnt want to move much at all was really glad to experience this glimpse into the sort of vibrant energy i will gain through out the year\"\n",
    ")\n",
    "\n",
    "llm = Ollama(model=\"mistral\")\n",
    "prediction = llm.predict(prompt_formatted_str)\n",
    "print(prediction)\n",
    "\n",
    "\n",
    "    "
   ]
  },
  {
   "cell_type": "code",
   "execution_count": 74,
   "metadata": {},
   "outputs": [],
   "source": [
    "# let's make the above into a function called predict_emotion\n",
    "# update the function to take an optional model, default to mistral\n",
    "# if no model is passed, use mistral\n",
    "\n",
    "\n",
    "def predict_emotion(text, model=\"mistral\"):  \n",
    "    prompt = PromptTemplate.from_template(prompt_template)\n",
    "    prompt_formatted_str: str = prompt.format(\n",
    "        emotion_list=emotions_list, text=text\n",
    "    )\n",
    "\n",
    "    llm = Ollama(model=model)\n",
    "    prediction = llm.predict(prompt_formatted_str)\n",
    "    return prediction\n"
   ]
  },
  {
   "cell_type": "code",
   "execution_count": 76,
   "metadata": {},
   "outputs": [
    {
     "name": "stdout",
     "output_type": "stream",
     "text": [
      "Requirement already satisfied: pandas in /home/dmccarthy/anaconda3/envs/langchain/lib/python3.12/site-packages (2.2.2)\n",
      "Requirement already satisfied: numpy>=1.26.0 in /home/dmccarthy/anaconda3/envs/langchain/lib/python3.12/site-packages (from pandas) (1.26.4)\n",
      "Requirement already satisfied: python-dateutil>=2.8.2 in /home/dmccarthy/anaconda3/envs/langchain/lib/python3.12/site-packages (from pandas) (2.9.0)\n",
      "Requirement already satisfied: pytz>=2020.1 in /home/dmccarthy/anaconda3/envs/langchain/lib/python3.12/site-packages (from pandas) (2024.1)\n",
      "Requirement already satisfied: tzdata>=2022.7 in /home/dmccarthy/anaconda3/envs/langchain/lib/python3.12/site-packages (from pandas) (2024.1)\n",
      "Requirement already satisfied: six>=1.5 in /home/dmccarthy/anaconda3/envs/langchain/lib/python3.12/site-packages (from python-dateutil>=2.8.2->pandas) (1.16.0)\n",
      "Collecting colorama\n",
      "  Downloading colorama-0.4.6-py2.py3-none-any.whl.metadata (17 kB)\n",
      "Using cached colorama-0.4.6-py2.py3-none-any.whl (25 kB)\n",
      "Installing collected packages: colorama\n",
      "Successfully installed colorama-0.4.6\n"
     ]
    }
   ],
   "source": [
    "!pip install pandas\n",
    "!pip install colorama"
   ]
  },
  {
   "cell_type": "code",
   "execution_count": 77,
   "metadata": {},
   "outputs": [
    {
     "name": "stdout",
     "output_type": "stream",
     "text": [
      "i seriously hate one subject to death but now i feel reluctant to drop it : \u001b[34mFrustrated\u001b[0m\n",
      "im so full of life i feel appalled : \u001b[34mAwed\u001b[0m\n",
      "i sit here to write i start to dig out my feelings and i think that i am afraid to accept the possibility that he might not make it : \u001b[34mAfraid\u001b[0m\n",
      "ive been really angry with r and i feel like an idiot for trusting him in the first place : \u001b[34mAngry\u001b[0m\n",
      "i feel suspicious if there is no one outside like the rapture has happened or something : \u001b[34mSuspicious\u001b[0m\n",
      "i feel jealous becasue i wanted that kind of love the true connection between two souls and i wanted that : \u001b[34mJealous\u001b[0m\n",
      "when a friend of mine keeps telling me morbid things that happened to his dog : \u001b[34mFrustrated\u001b[0m\n",
      "i finally fell asleep feeling angry useless and still full of anxiety : \u001b[34mAngry\u001b[0m\n",
      "i feel a bit annoyed and antsy in a good way : \u001b[34mFrustrated\u001b[0m\n",
      "i feel like i ve regained another vital part of my life which is living : \u001b[34mJoyful\u001b[0m\n",
      "i feel a bit like franz liebkind in the producers not many people know it but the fuhrer was a terrific dancer : \u001b[34mConfused\u001b[0m\n",
      "i was feeling at the start didnt want to move much at all was really glad to experience this glimpse into the sort of vibrant energy i will gain through out the year : \u001b[34mHopeful\u001b[0m\n",
      "i was bitten by a dog : \u001b[34mAfraid\u001b[0m\n",
      "i do not always find myself feeling thankful but over the years i ve gathered a few tricks that allow me to feel grateful in the face of moments when the last thing i want to do is say thanks : \u001b[34mSerene\u001b[0m\n",
      "i just try not to talk to anyone when i feel irritable like that : \u001b[34mIrritated\u001b[0m\n",
      "i feel like they hated me since then : \u001b[34mAngry\u001b[0m\n",
      "i dont know who wrote the following little note but this is how i feel today if u r offended by the following posting then you obviously have not lived long enough to be compromised on how you act or believe : \u001b[34mInspired\u001b[0m\n",
      "i feel offended i choose to tell you guys how i feel because i treated you guys as friends and would want to put a stop to all these nonsense : \u001b[34mAngry\u001b[0m\n",
      "i remember feeling as if i didn t belong and that i wasn t smart enough cool enough or even young enough : \u001b[34mSad\u001b[0m\n",
      "i feel like i have to redeem myself even though i think they realized why i was distraught and were ok with it : \u001b[34mRedemptive\u001b[0m\n",
      "i hope that the next quote will be able to let my special someone knows what im feeling insecure about and understand that no matter how much i trust : \u001b[34mInsecure\u001b[0m\n",
      "i feel much better and without the help of ice : \u001b[34mRelieved\u001b[0m\n",
      "i am sitting here typing this and wondering where i belong feeling distracted feeling comfortable feeling misunderstood and hurt : \u001b[34mSad\u001b[0m\n",
      "i still feel its a little shaky at times and can move into the slightly odd jades hair in particular seems prone to this but generally it works well with spencers writing : \u001b[34mContent\u001b[0m\n",
      "i stropped about for a bit feeling grumpy because i was missing out : \u001b[34mGrumpy\u001b[0m\n",
      "i have a feeling i shall go mad : \u001b[34mAfraid\u001b[0m\n",
      "i am happpy when i get good results in the field of academics or athletics : \u001b[34mJoyful\u001b[0m\n",
      "i got the feeling brig is sincere and has a very strong desire to help others become successful both financially and also through building strengthening relationships through christianity : \u001b[34mInspired\u001b[0m\n",
      "im feeling deeply overwhelmed by these ordinary tasks : \u001b[34mFrustrated\u001b[0m\n",
      "i feel so grouchy and irritable when im sick : \u001b[34mSad\u001b[0m\n",
      "i feel my heart shaky all the time now : \u001b[34mAfraid\u001b[0m\n",
      "i expect and i feel content with that : \u001b[34mContent\u001b[0m\n",
      "i feel amused at the absurdity of it all : \u001b[34mAmused\u001b[0m\n",
      "i end up getting unwanted attention from boys i want little to do with or ill be sort of starting something with a boy then find myself flirtiing with others in his presence or ill feel really insincere around boys that i do like : \u001b[34mFrustrated\u001b[0m\n",
      "i just couldnt help feeling a little bit bitter towards his great big happy grin : \u001b[34mBitter\u001b[0m\n",
      "i go back to my point about what an easy sell getting folk to feel really virtuous for not doing what they dont want to do anyway : \u001b[34mFrustrated\u001b[0m\n",
      "im feeling a bit more sociable now although i dont think ill be able to express everything i want to say : \u001b[34mContent\u001b[0m\n",
      "i would feel joyful : \u001b[34mJoyful\u001b[0m\n",
      "at a certain situation i felt myself neglected and undeservedly harmed : \u001b[34mSad\u001b[0m\n",
      "i felt good and feel fine today too : \u001b[34mContent\u001b[0m\n",
      "i looked at what had happened to us in two generations and looked at what hadn t happened to them in two or three and instead of feeling outraged by their history of aggression i felt privileged by it : \u001b[34mPrivileged\u001b[0m\n",
      "im feeling slightly optimistic : \u001b[34mHopeful\u001b[0m\n",
      "i feel and some is just a hateful of hollow yes i hear many smiths these days : \u001b[34mAngry\u001b[0m\n",
      "im still feeling indecisive im polling yall p : \u001b[34mFrustrated\u001b[0m\n",
      "sometime back another girl who was in terms with my exboyfriend came to shout at me at twelve midnight it was because she thought i was still interested in the boy : \u001b[34mFrustrated\u001b[0m\n",
      "id start feeling resentful that i lived in a part of the country where the sun stubbornly refuses to show itself after the end of september : \u001b[34mResentful\u001b[0m\n",
      "i just feel so fucked up these days : \u001b[34mAngry\u001b[0m\n",
      "i confess that i was feeling nervous as i made my way to the event venue : \u001b[34mNervous\u001b[0m\n",
      "i was really worried that i would feel intimidated by monica but when we met that morning she was incredibly welcoming and made me feel relaxed straight away : \u001b[34mWelcomed\u001b[0m\n",
      "i was sick with a cold amp not feeling well wondering if i would even be able to have the patience to go to whitleys month photo shoot : \u001b[34mFrustrated\u001b[0m\n",
      "i feel like i have been a bit obnoxious in my picture posting : \u001b[34mShame\u001b[0m\n"
     ]
    }
   ],
   "source": [
    "# read in the ./data/emotions_sentiment_sample.csv file using pandas and send the text column to the predict_emotion function\n",
    "import pandas as pd\n",
    "from colorama import Fore, Style\n",
    "df = pd.read_csv('./data/emotions_sentiment_sample.csv')\n",
    "#loop through the text column and call the predict_emotion function\n",
    "for text in df['text']:\n",
    "    prediction = predict_emotion(text, \"gemma\")\n",
    "    #check to see if there is more than one word in prediction, if so, split and take the first word only \n",
    "    if len(prediction.split()) > 1:\n",
    "        prediction = prediction.split()[0]\n",
    "    \n",
    "    #strip any whitespace from the prediction or punctuation from prediction\n",
    "    prediction = prediction.strip().strip('.,')\n",
    "\n",
    "    print(Fore.BLUE + prediction + Style.RESET_ALL + \" : \" + text )\n",
    "\n"
   ]
  }
 ],
 "metadata": {
  "kernelspec": {
   "display_name": "langchain",
   "language": "python",
   "name": "python3"
  },
  "language_info": {
   "codemirror_mode": {
    "name": "ipython",
    "version": 3
   },
   "file_extension": ".py",
   "mimetype": "text/x-python",
   "name": "python",
   "nbconvert_exporter": "python",
   "pygments_lexer": "ipython3",
   "version": "3.12.2"
  }
 },
 "nbformat": 4,
 "nbformat_minor": 2
}
