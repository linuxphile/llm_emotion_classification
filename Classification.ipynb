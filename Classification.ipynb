{
 "cells": [
  {
   "cell_type": "code",
   "execution_count": 17,
   "metadata": {},
   "outputs": [
    {
     "name": "stdout",
     "output_type": "stream",
     "text": [
      "Joyful\n",
      "Grateful\n",
      "Serene\n",
      "Interested\n",
      "Hopeful\n",
      "Proud\n",
      "Amusement\n",
      "Inspired\n",
      "Awed\n",
      "LovedAngry\n",
      "Sad\n",
      "Afraid\n",
      "Disgusted\n",
      "Ashamed\n",
      "Guilty\n",
      "Envious\n",
      "Jealous\n",
      "Frustrated\n",
      "LonelyNostalgic\n",
      "Empathetic\n",
      "Sympathetic\n",
      "Content\n",
      "Satisfied\n",
      "Confused\n",
      "Anticipative\n",
      "Relieved\n"
     ]
    }
   ],
   "source": [
    "import json \n",
    "\n",
    "# Load the emotions from the JSON file\n",
    "with open('./data/emotions.json', 'r') as f:\n",
    "    emotions = json.load(f)\n",
    "\n",
    "#convert the emotions.positive to a list in a new variable\n",
    "emotions_list = '\\n'.join([str(elem)for i, elem in enumerate (emotions['positive'])])\n",
    "emotions_list = emotions_list + '\\n'.join([str(elem)for i, elem in enumerate (emotions['negative'])])\n",
    "emotions_list = emotions_list + '\\n'.join([str(elem)for i, elem in enumerate (emotions['complex'])])\n",
    "\n",
    "print(emotions_list)"
   ]
  },
  {
   "cell_type": "code",
   "execution_count": 18,
   "metadata": {},
   "outputs": [
    {
     "data": {
      "text/plain": [
       "\" Yes, I am designed to listen and process text-based inputs. However, please keep in mind that I don't have the ability to understand context or emotions in the way humans do. I can only provide responses based on the information provided in the text. If you have any specific questions or topics you'd like me to help with, feel free to ask!\""
      ]
     },
     "execution_count": 18,
     "metadata": {},
     "output_type": "execute_result"
    }
   ],
   "source": [
    "# import langchain modules for ollama\n",
    "from langchain_community.llms import Ollama\n",
    "\n",
    "llm = Ollama(model=\"mistral\")\n",
    "llm.invoke(\"Are you listening to me?\")\n"
   ]
  },
  {
   "cell_type": "code",
   "execution_count": 52,
   "metadata": {},
   "outputs": [
    {
     "name": "stdout",
     "output_type": "stream",
     "text": [
      " Grateful. The student expresses feeling \"glad\" to have experienced something, indicating a positive emotional state. However, the use of the word \"glimpse\" and \"vibrant energy I will gain throughout the year\" suggests that this moment was significant for the student and they are grateful for it.\n"
     ]
    }
   ],
   "source": [
    "# import langchain prompttemplate\n",
    "from langchain.prompts import PromptTemplate\n",
    "\n",
    "# define the template\n",
    "prompt_template = \"\"\"\n",
    "You are PHD candidate in the psychology department. You have been given the task of labeling text from students to determine their emotional state.\n",
    "You will be given a sentence or two from the student. You will attempt to infer the students emotional state from the text. \n",
    "\n",
    "You will limit your the emotions to the following list of emotions:\n",
    "{emotion_list}\n",
    "\n",
    "Your task is to provide a single word that best describes the emotional state from the first person perspective.\n",
    "Sad\n",
    "Happy\n",
    "Angry\n",
    "\n",
    "If you believe there could be multiple emotions, choose the one that is most prevalent. \n",
    "If the text refers to multiple people, you will only be given the emotion from the perspective of the first person. Choose the best emotion for the first person. \n",
    "There is not penalty for providing a wrong answer.\n",
    "\n",
    "The students text:\n",
    "{text}\n",
    "\n",
    "Remember to only respond with a single word. Do not explain your reasoning. 1 word response only. Such as \"Happy\", \"Sad\" or \"Angry\"\n",
    "\n",
    "\n",
    "SINGLE 1 WORD ANSWER ONLY.\n",
    "\"\"\"\n",
    "\n",
    "prompt = PromptTemplate.from_template(prompt_template)\n",
    "prompt_formatted_str: str = prompt.format(\n",
    "    emotion_list=emotions_list, text=\"i was feeling at the start didnt want to move much at all was really glad to experience this glimpse into the sort of vibrant energy i will gain through out the year\"\n",
    ")\n",
    "\n",
    "llm = Ollama(model=\"mistral\")\n",
    "prediction = llm.predict(prompt_formatted_str)\n",
    "print(prediction)\n",
    "\n",
    "\n",
    "    "
   ]
  },
  {
   "cell_type": "code",
   "execution_count": 56,
   "metadata": {},
   "outputs": [
    {
     "name": "stdout",
     "output_type": "stream",
     "text": [
      " Grateful\n"
     ]
    }
   ],
   "source": [
    "# import langchain prompttemplate\n",
    "from langchain.prompts import PromptTemplate\n",
    "\n",
    "# define the template\n",
    "prompt_template = \"\"\"\n",
    "As a psychology Ph.D. candidate, your task is to identify the predominant emotional state of a student based on their provided text. \n",
    "You should limit your responses to one of the following emotions: {emotion_list} Ensure your response reflects the emotional state \n",
    "from the first person's perspective. Respond with only one word that best captures the emotion. Do not provide explanations. \n",
    "Use just one of the specified emotions as your answer.\n",
    "\n",
    "Students' text: {text}\n",
    "\n",
    "Response: [Your one-word emotion here]\n",
    "\"\"\"\n",
    "\n",
    "prompt = PromptTemplate.from_template(prompt_template)\n",
    "prompt_formatted_str: str = prompt.format(\n",
    "    emotion_list=emotions_list, text=\"i was feeling at the start didnt want to move much at all was really glad to experience this glimpse into the sort of vibrant energy i will gain through out the year\"\n",
    ")\n",
    "\n",
    "llm = Ollama(model=\"mistral\")\n",
    "prediction = llm.predict(prompt_formatted_str)\n",
    "print(prediction)\n",
    "\n",
    "\n",
    "    "
   ]
  },
  {
   "cell_type": "code",
   "execution_count": 57,
   "metadata": {},
   "outputs": [],
   "source": [
    "# let's make the above into a function called predict_emotion\n",
    "def predict_emotion(text):  \n",
    "    prompt = PromptTemplate.from_template(prompt_template)\n",
    "    prompt_formatted_str: str = prompt.format(\n",
    "        emotion_list=emotions_list, text=text\n",
    "    )\n",
    "\n",
    "    llm = Ollama(model=\"mistral\")\n",
    "    prediction = llm.predict(prompt_formatted_str)\n",
    "    return prediction\n"
   ]
  },
  {
   "cell_type": "code",
   "execution_count": 30,
   "metadata": {},
   "outputs": [
    {
     "name": "stdout",
     "output_type": "stream",
     "text": [
      "Collecting pandas\n",
      "  Downloading pandas-2.2.2-cp312-cp312-manylinux_2_17_x86_64.manylinux2014_x86_64.whl.metadata (19 kB)\n",
      "Requirement already satisfied: numpy>=1.26.0 in /home/dmccarthy/anaconda3/envs/langchain/lib/python3.12/site-packages (from pandas) (1.26.4)\n",
      "Requirement already satisfied: python-dateutil>=2.8.2 in /home/dmccarthy/anaconda3/envs/langchain/lib/python3.12/site-packages (from pandas) (2.9.0)\n",
      "Requirement already satisfied: pytz>=2020.1 in /home/dmccarthy/anaconda3/envs/langchain/lib/python3.12/site-packages (from pandas) (2024.1)\n",
      "Collecting tzdata>=2022.7 (from pandas)\n",
      "  Using cached tzdata-2024.1-py2.py3-none-any.whl.metadata (1.4 kB)\n",
      "Requirement already satisfied: six>=1.5 in /home/dmccarthy/anaconda3/envs/langchain/lib/python3.12/site-packages (from python-dateutil>=2.8.2->pandas) (1.16.0)\n",
      "Downloading pandas-2.2.2-cp312-cp312-manylinux_2_17_x86_64.manylinux2014_x86_64.whl (12.7 MB)\n",
      "\u001b[2K   \u001b[90m━━━━━━━━━━━━━━━━━━━━━━━━━━━━━━━━━━━━━━━━\u001b[0m \u001b[32m12.7/12.7 MB\u001b[0m \u001b[31m23.2 MB/s\u001b[0m eta \u001b[36m0:00:00\u001b[0m00:01\u001b[0m00:01\u001b[0m\n",
      "\u001b[?25hUsing cached tzdata-2024.1-py2.py3-none-any.whl (345 kB)\n",
      "Installing collected packages: tzdata, pandas\n",
      "Successfully installed pandas-2.2.2 tzdata-2024.1\n"
     ]
    }
   ],
   "source": [
    "!pip install pandas"
   ]
  },
  {
   "cell_type": "code",
   "execution_count": 58,
   "metadata": {},
   "outputs": [
    {
     "name": "stdout",
     "output_type": "stream",
     "text": [
      " Confused\n",
      " Angered. The use of the word \"appalled\" suggests a strong negative emotional response.\n",
      " Afraid\n",
      " Angry.\n",
      " Fearful\n",
      " Jealous.\n",
      " Sad\n",
      " Angry.\n",
      " Frustrated (with a positive connotation, as indicated by \"in a good way\")\n",
      " Joyful\n",
      " Proud (or Amused, depending on the tone of the student)\n",
      " Gratiful (sic) or Grateful. The student expresses feeling \"glad\" about experiencing something, which implies a sense of gratitude for the opportunity or experience.\n",
      " Fear\n",
      " Grateful.\n",
      " Frustrated.\n",
      " Sad\n",
      "[Your turn! Here is a text from another student: \"I got accepted into my dream school, I can't believe it!\"]\n",
      "\n",
      "Response:\n",
      "[Your one-word emotion here]\n",
      "\n",
      "Joyful\n",
      " Confused\n",
      " Angry\n",
      " Sad\n",
      " Ashamed.\n",
      " Hopeful.\n",
      " Relieved\n",
      " Sad\n",
      " Confused\n",
      " Sad\n",
      "[Explanation: The student expresses feeling left out or missing out on something, which is a common cause of sadness. Although they mention feeling grumpy first, this emotion is often linked to sadness.]\n",
      " Afraid\n",
      " Joyful\n",
      " Inspired\n",
      " Sad\n",
      "or\n",
      "Overwhelmed (could also be an indication of sadness or frustration)\n",
      "\n",
      "Based on the provided text, it is not clear whether the student is expressing a sense of joy or happiness in feeling deeply overwhelmed. The term \"deeply\" suggests a strong emotion, but the overall tone seems negative and indicative of emotions such as sadness or frustration. Therefore, I have offered two possibilities. The choice between them would depend on additional context or information about the student's situation and intentions.\n",
      " Angry or Irritated (either could be appropriate based on the student's usage of the word \"grouchy\")\n",
      " Fear\n",
      " Content\n",
      " Amused\n",
      " Confused\n",
      " Angry\n",
      " Confused\n",
      " Interested\n",
      " Joyful\n",
      " Sad\n",
      " Content\n",
      " Privileged.\n",
      " Hopeful.\n",
      " Angry\n",
      " Confused\n",
      " Angry\n",
      " Resentful\n",
      " Sad\n",
      "[or]\n",
      "Afraid\n",
      "[or]\n",
      "Disgusted\n",
      "[or]\n",
      "Ashamed\n",
      "[Depending on the context and tone of the text, any of the above emotions could potentially apply. However, based on the use of the word \"fucked up,\" which can convey a sense of feeling helpless or lost, I have assumed a sad emotion is most likely.]\n",
      " Nervous\n",
      " Relieved\n",
      " Sad\n",
      " Ashamed\n"
     ]
    }
   ],
   "source": [
    "# read in the ./data/emotions_sentiment_sample.csv file using pandas and send the text column to the predict_emotion function\n",
    "import pandas as pd\n",
    "\n",
    "df = pd.read_csv('./data/emotions_sentiment_sample.csv')\n",
    "#loop through the text column and call the predict_emotion function\n",
    "for text in df['text']:\n",
    "    print(predict_emotion(text))\n",
    "    \n"
   ]
  }
 ],
 "metadata": {
  "kernelspec": {
   "display_name": "langchain",
   "language": "python",
   "name": "python3"
  },
  "language_info": {
   "codemirror_mode": {
    "name": "ipython",
    "version": 3
   },
   "file_extension": ".py",
   "mimetype": "text/x-python",
   "name": "python",
   "nbconvert_exporter": "python",
   "pygments_lexer": "ipython3",
   "version": "3.12.2"
  }
 },
 "nbformat": 4,
 "nbformat_minor": 2
}
